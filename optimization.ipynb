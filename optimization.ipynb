{
 "cells": [
  {
   "cell_type": "code",
   "execution_count": 7,
   "metadata": {},
   "outputs": [],
   "source": [
    "import pandas as pd\n",
    "from sklearn.model_selection import train_test_split\n",
    "from sklearn.metrics import precision_score, recall_score, f1_score\n",
    "from src.pipeline import TextAnalysisPipeline  \n",
    "from ax import optimize"
   ]
  },
  {
   "cell_type": "markdown",
   "metadata": {},
   "source": [
    "## Data:"
   ]
  },
  {
   "cell_type": "code",
   "execution_count": 15,
   "metadata": {},
   "outputs": [],
   "source": [
    "data = pd.read_csv('spam_dataset_examples.csv')\n",
    "val_df = data.groupby(\"label\")\\\n",
    "             .apply(lambda group: group.sample(frac=0.5, random_state=42), include_groups=False)\\\n",
    "             .reset_index()\\\n",
    "             .set_index(\"level_1\")\n",
    "test_df = data.drop(val_df.index)"
   ]
  },
  {
   "cell_type": "markdown",
   "metadata": {},
   "source": [
    "## Auxilary functions:"
   ]
  },
  {
   "cell_type": "code",
   "execution_count": null,
   "metadata": {},
   "outputs": [],
   "source": [
    "\n"
   ]
  },
  {
   "cell_type": "code",
   "execution_count": null,
   "metadata": {},
   "outputs": [],
   "source": [
    "def optimize_model(weights, spam_threshold):\n",
    "    # Initialize the Decision Engine with the given weights and threshold\n",
    "    cfg = {\n",
    "        \"decision_engine\": {\n",
    "            \"weights\": weights,\n",
    "            \"spam_threshold\": spam_threshold\n",
    "        }\n",
    "    }\n",
    "    decision_engine = TextAnalysisPipeline(cfg)\n",
    "\n",
    "    # Evaluate on the validation set\n",
    "    y_true = val_df['label'].values\n",
    "    y_pred = []\n",
    "\n",
    "    # TODO: predict over dataframe text\n",
    "    for index, row in val_df.iterrows():\n",
    "        sentiment_result = {\"spam_likelihood\": 0.5, \"reasoning\": \"Example reasoning\"}\n",
    "        grammar_result = {\"spam_likelihood\": 0.5, \"reasoning\": \"Example reasoning\"}\n",
    "        url_result = {\"spam_likelihood\": 0.5, \"reasoning\": \"Example reasoning\"}\n",
    "        domain_result = {\"spam_likelihood\": 0.5, \"reasoning\": \"Example reasoning\"}\n",
    "\n",
    "        result = decision_engine.make_decision(sentiment_result, grammar_result, url_result, domain_result)\n",
    "        y_pred.append(result['is_spam'])\n",
    "\n",
    "    # Calculate metrics\n",
    "    precision = precision_score(y_true, y_pred)\n",
    "    recall = recall_score(y_true, y_pred)\n",
    "    f1 = f1_score(y_true, y_pred)\n",
    "\n",
    "    return f1"
   ]
  },
  {
   "cell_type": "code",
   "execution_count": null,
   "metadata": {},
   "outputs": [],
   "source": [
    "best_parameters, best_values = optimize(\n",
    "    f=optimize_model,\n",
    "    parameters=[\n",
    "        {\"name\": \"weights[sentiment]\", \"type\": \"range\", \"bounds\": [0, 1]},\n",
    "        {\"name\": \"weights[grammar]\", \"type\": \"range\", \"bounds\": [0, 1]},\n",
    "        {\"name\": \"weights[url]\", \"type\": \"range\", \"bounds\": [0, 1]},\n",
    "        {\"name\": \"weights[domain]\", \"type\": \"range\", \"bounds\": [0, 1]},\n",
    "        {\"name\": \"spam_threshold\", \"type\": \"range\", \"bounds\": [0, 1]}\n",
    "    ],\n",
    "    total_trials=50,\n",
    ")"
   ]
  },
  {
   "cell_type": "code",
   "execution_count": null,
   "metadata": {},
   "outputs": [],
   "source": []
  },
  {
   "cell_type": "code",
   "execution_count": null,
   "metadata": {},
   "outputs": [],
   "source": []
  },
  {
   "cell_type": "code",
   "execution_count": null,
   "metadata": {},
   "outputs": [],
   "source": []
  },
  {
   "cell_type": "code",
   "execution_count": null,
   "metadata": {},
   "outputs": [],
   "source": []
  },
  {
   "cell_type": "code",
   "execution_count": null,
   "metadata": {},
   "outputs": [],
   "source": []
  },
  {
   "cell_type": "code",
   "execution_count": null,
   "metadata": {},
   "outputs": [],
   "source": []
  },
  {
   "cell_type": "code",
   "execution_count": null,
   "metadata": {},
   "outputs": [],
   "source": []
  },
  {
   "cell_type": "code",
   "execution_count": null,
   "metadata": {},
   "outputs": [],
   "source": []
  },
  {
   "cell_type": "code",
   "execution_count": null,
   "metadata": {},
   "outputs": [],
   "source": []
  },
  {
   "cell_type": "code",
   "execution_count": null,
   "metadata": {},
   "outputs": [],
   "source": []
  }
 ],
 "metadata": {
  "kernelspec": {
   "display_name": "amichay",
   "language": "python",
   "name": "python3"
  },
  "language_info": {
   "codemirror_mode": {
    "name": "ipython",
    "version": 3
   },
   "file_extension": ".py",
   "mimetype": "text/x-python",
   "name": "python",
   "nbconvert_exporter": "python",
   "pygments_lexer": "ipython3",
   "version": "3.10.16"
  }
 },
 "nbformat": 4,
 "nbformat_minor": 2
}
